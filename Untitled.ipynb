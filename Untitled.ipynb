{
 "cells": [
  {
   "cell_type": "code",
   "execution_count": 13,
   "metadata": {},
   "outputs": [],
   "source": [
    "import numpy as np\n",
    "import random"
   ]
  },
  {
   "cell_type": "code",
   "execution_count": 14,
   "metadata": {},
   "outputs": [],
   "source": [
    "p1 = [8, 4, 7, 3, 6, 2, 5, 1, 9, 0]\n",
    "p2 = [0, 1, 2, 3, 4, 5, 6, 7, 8, 9]"
   ]
  },
  {
   "cell_type": "code",
   "execution_count": 33,
   "metadata": {},
   "outputs": [],
   "source": [
    "def cxSimulatedBinary(ind1, ind2, eta):\n",
    "    \"\"\"Executes a simulated binary crossover that modify in-place the input\n",
    "    individuals. The simulated binary crossover expects :term:`sequence`\n",
    "    individuals of floating point numbers.\n",
    "    :param ind1: The first individual participating in the crossover.\n",
    "    :param ind2: The second individual participating in the crossover.\n",
    "    :param eta: Crowding degree of the crossover. A high eta will produce\n",
    "                children resembling to their parents, while a small eta will\n",
    "                produce solutions much more different.\n",
    "    :returns: A tuple of two individuals.\n",
    "    This function uses the :func:`~random.random` function from the python base\n",
    "    :mod:`random` module.\n",
    "    \"\"\"\n",
    "    for i, (x1, x2) in enumerate(zip(ind1, ind2)):\n",
    "        rand = random.random()\n",
    "        if rand <= 0.5:\n",
    "            beta = 2. * rand\n",
    "        else:\n",
    "            beta = 1. / (2. * (1. - rand))\n",
    "        beta **= 1. / (eta + 1.)\n",
    "        ind1[i] = 0.5 * (((1 + beta) * x1) + ((1 - beta) * x2))\n",
    "        ind2[i] = 0.5 * (((1 - beta) * x1) + ((1 + beta) * x2))\n",
    "\n",
    "    return ind1, ind2"
   ]
  },
  {
   "cell_type": "code",
   "execution_count": 34,
   "metadata": {},
   "outputs": [
    {
     "data": {
      "text/plain": [
       "([0.46188521918600944,\n",
       "  -703.7376334328414,\n",
       "  7.281054681511607,\n",
       "  2.9999999999999996,\n",
       "  5.311942439722674,\n",
       "  8.0,\n",
       "  -82.09811169039165,\n",
       "  12.278596726806017,\n",
       "  0.4509077505293,\n",
       "  4.696169509152748],\n",
       " [4.538114780813991,\n",
       "  712.7376334328414,\n",
       "  3.718945318488394,\n",
       "  2.9999999999999996,\n",
       "  5.688057560277326,\n",
       "  8.0,\n",
       "  91.09811169039165,\n",
       "  -7.278596726806017,\n",
       "  8.5490922494707,\n",
       "  4.303830490847251])"
      ]
     },
     "execution_count": 34,
     "metadata": {},
     "output_type": "execute_result"
    }
   ],
   "source": [
    "cxSimulatedBinary(p1, p2, 0.1)"
   ]
  },
  {
   "cell_type": "code",
   "execution_count": null,
   "metadata": {},
   "outputs": [],
   "source": []
  },
  {
   "cell_type": "code",
   "execution_count": null,
   "metadata": {},
   "outputs": [],
   "source": []
  },
  {
   "cell_type": "code",
   "execution_count": null,
   "metadata": {},
   "outputs": [],
   "source": []
  },
  {
   "cell_type": "code",
   "execution_count": null,
   "metadata": {},
   "outputs": [],
   "source": []
  },
  {
   "cell_type": "code",
   "execution_count": null,
   "metadata": {},
   "outputs": [],
   "source": []
  },
  {
   "cell_type": "code",
   "execution_count": null,
   "metadata": {},
   "outputs": [],
   "source": []
  },
  {
   "cell_type": "code",
   "execution_count": null,
   "metadata": {},
   "outputs": [],
   "source": []
  },
  {
   "cell_type": "code",
   "execution_count": null,
   "metadata": {},
   "outputs": [],
   "source": []
  },
  {
   "cell_type": "code",
   "execution_count": null,
   "metadata": {},
   "outputs": [],
   "source": []
  },
  {
   "cell_type": "code",
   "execution_count": null,
   "metadata": {},
   "outputs": [],
   "source": []
  },
  {
   "cell_type": "code",
   "execution_count": null,
   "metadata": {},
   "outputs": [],
   "source": [
    "p1 = [8, 4, 7, 3, 6, 2, 5, 1, 9, 0]\n",
    "p2 = [0, 1, 2, 3, 4, 5, 6, 7, 8, 9]\n",
    "# p1=np.array(p1)\n",
    "# p2=np.array(p2)"
   ]
  },
  {
   "cell_type": "code",
   "execution_count": null,
   "metadata": {},
   "outputs": [],
   "source": [
    "def reproduce(p1, p2):\n",
    "    n = len(p1)\n",
    "    p1_real = p1.copy()\n",
    "    p2_real = p2.copy()\n",
    "    p1 = p1.copy()\n",
    "    p2 = p2.copy()\n",
    "    child1 = [\"X\" for i in range(n)]\n",
    "    child2 = [\"X\" for i in range(n)]\n",
    "    cycle = set()\n",
    "    count = 0\n",
    "    i=0\n",
    "    cycle.add(p1[0])\n",
    "    p1[0]=-1\n",
    "    cycles=[]\n",
    "    print(cycle)\n",
    "    while count<n:\n",
    "        if p2[i] in cycle:\n",
    "            print(f\"i:{i}, p2[i]: {p2[i]}, cycle: {cycle}\")\n",
    "            cycles.append((cycle.copy()))\n",
    "            p2[i]=-1\n",
    "            cycle.clear()\n",
    "            for j in range(n):\n",
    "                if p1[j]!=-1:\n",
    "                    i=j\n",
    "                    break\n",
    "            cycle.add(p1[i])\n",
    "            count+=1\n",
    "            p1[i]=-1\n",
    "            continue\n",
    "        i_new = p1.index(p2[i])\n",
    "        p2[i]=-1\n",
    "        i = i_new\n",
    "        cycle.add(p1[i])\n",
    "        count+=1\n",
    "        p1[i]=-1\n",
    "    print(cycles)\n",
    "    p1 = p1_real\n",
    "    p2 = p2_real\n",
    "    for i in range(n):\n",
    "        for idx, cycle in enumerate(cycles):\n",
    "            if p1[i] in cycle:\n",
    "                if idx%2==0:\n",
    "                    child1[i]=p1[i]\n",
    "                else:\n",
    "                    child2[i]=p1[i]\n",
    "    for i in range(n):\n",
    "        for idx, cycle in enumerate(cycles):\n",
    "            if p2[i] in cycle:\n",
    "                if idx%2==0:\n",
    "                    child2[i]=p2[i]\n",
    "                else:\n",
    "                    child1[i]=p2[i]\n",
    "                    \n",
    "    print(child1)\n",
    "    print(child2)"
   ]
  },
  {
   "cell_type": "code",
   "execution_count": null,
   "metadata": {},
   "outputs": [],
   "source": [
    "reproduce(p1, p2)"
   ]
  },
  {
   "cell_type": "code",
   "execution_count": null,
   "metadata": {},
   "outputs": [],
   "source": [
    "# Child 1:  8 1 2 3 4 5 6 7 9 0\n",
    "# Child 2:  0 4 7 3 6 2 5 1 8 9 \n",
    "reproduce(p1, p2)"
   ]
  },
  {
   "cell_type": "code",
   "execution_count": null,
   "metadata": {},
   "outputs": [],
   "source": [
    "l = [1, \"sda\"]"
   ]
  },
  {
   "cell_type": "code",
   "execution_count": null,
   "metadata": {},
   "outputs": [],
   "source": [
    "l"
   ]
  },
  {
   "cell_type": "code",
   "execution_count": null,
   "metadata": {},
   "outputs": [],
   "source": []
  }
 ],
 "metadata": {
  "kernelspec": {
   "display_name": "Python 3.6.9 64-bit",
   "language": "python",
   "name": "python36964bit0db550d146f74553ad392f9d13d40b79"
  },
  "language_info": {
   "codemirror_mode": {
    "name": "ipython",
    "version": 3
   },
   "file_extension": ".py",
   "mimetype": "text/x-python",
   "name": "python",
   "nbconvert_exporter": "python",
   "pygments_lexer": "ipython3",
   "version": "3.6.9"
  }
 },
 "nbformat": 4,
 "nbformat_minor": 4
}
